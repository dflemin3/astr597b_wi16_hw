{
 "cells": [
  {
   "cell_type": "markdown",
   "metadata": {},
   "source": [
    "# David Fleming\n",
    "# ASTR 597b\n",
    "# Prof. Juric\n",
    "# March 12th, 2016"
   ]
  },
  {
   "cell_type": "code",
   "execution_count": 1,
   "metadata": {
    "collapsed": true
   },
   "outputs": [],
   "source": [
    "# Imports\n",
    "import numpy as np\n",
    "from astropy.table import Table\n",
    "from lsd import DB\n",
    "import os"
   ]
  },
  {
   "cell_type": "markdown",
   "metadata": {},
   "source": [
    "### While working on magneto, limit LSD's core usage and let it know where important directories are."
   ]
  },
  {
   "cell_type": "code",
   "execution_count": 2,
   "metadata": {
    "collapsed": false
   },
   "outputs": [],
   "source": [
    "os.environ['NWORKERS'] = '8'\n",
    "os.environ['LSD_DB'] = \"/astro/users/dflemin3/tempdir\"\n",
    "os.environ['LSD_CACHEDIR'] = \"/astro/users/dflemin3/tempdir\"\n",
    "os.environ['LSD_TEMPDIR'] = \"/astro/users/dflemin3/tempdir\"\n",
    "datadir = \"/astro/users/dflemin3/Desktop/\""
   ]
  },
  {
   "cell_type": "markdown",
   "metadata": {},
   "source": [
    "### Load in representative light curve and pixel file data.  For this demonstration, we will load in data for two objects using the two data outputs provided by the K2 mission, the processed light curve and the raw pixel file data.  For K2, the processed light curve is not really useful as most groups write pipelines for raw pixel file data, but it will still prove insightful to import both into LSD."
   ]
  },
  {
   "cell_type": "code",
   "execution_count": 3,
   "metadata": {
    "collapsed": false
   },
   "outputs": [
    {
     "name": "stderr",
     "output_type": "stream",
     "text": [
      "WARNING: UnitsWarning: 'BJD - 2454833' did not parse as fits unit: At col 0, Unit 'BJD' not supported by the FITS standard.  [astropy.units.core]\n",
      "WARNING:astropy:UnitsWarning: 'BJD - 2454833' did not parse as fits unit: At col 0, Unit 'BJD' not supported by the FITS standard. \n",
      "WARNING: UnitsWarning: 'e-/s' did not parse as fits unit: At col 0, Unit 'e' not supported by the FITS standard.  [astropy.units.core]\n",
      "WARNING:astropy:UnitsWarning: 'e-/s' did not parse as fits unit: At col 0, Unit 'e' not supported by the FITS standard. \n",
      "WARNING: UnitsWarning: 'pixels' did not parse as fits unit: At col 0, Unit 'pixels' not supported by the FITS standard. Did you mean pixel? [astropy.units.core]\n",
      "WARNING:astropy:UnitsWarning: 'pixels' did not parse as fits unit: At col 0, Unit 'pixels' not supported by the FITS standard. Did you mean pixel?\n"
     ]
    }
   ],
   "source": [
    "# Inspect the FITS files\n",
    "k2lc_data = Table.read(datadir + \"ktwo211402082-c05_llc.fits\")\n",
    "k2tar_data = Table.read(datadir + \"ktwo200000811-c00_lpd-targ.fits\")"
   ]
  },
  {
   "cell_type": "markdown",
   "metadata": {},
   "source": [
    "### Print out the column names and their datatypes as these must be known to construct the .yaml files."
   ]
  },
  {
   "cell_type": "code",
   "execution_count": 4,
   "metadata": {
    "collapsed": false
   },
   "outputs": [
    {
     "name": "stdout",
     "output_type": "stream",
     "text": [
      "(time, >f8)\n",
      "(timecorr, >f4)\n",
      "(cadenceno, >i4)\n",
      "(sap_flux, >f4)\n",
      "(sap_flux_err, >f4)\n",
      "(sap_bkg, >f4)\n",
      "(sap_bkg_err, >f4)\n",
      "(pdcsap_flux, >f4)\n",
      "(pdcsap_flux_err, >f4)\n",
      "(sap_quality, >i4)\n",
      "(psf_centr1, >f8)\n",
      "(psf_centr1_err, >f4)\n",
      "(psf_centr2, >f8)\n",
      "(psf_centr2_err, >f4)\n",
      "(mom_centr1, >f8)\n",
      "(mom_centr1_err, >f4)\n",
      "(mom_centr2, >f8)\n",
      "(mom_centr2_err, >f4)\n",
      "(pos_corr1, >f4)\n",
      "(pos_corr2, >f4)\n"
     ]
    }
   ],
   "source": [
    "# Lightcurve\n",
    "# Print out the column names and types\n",
    "for column in k2lc_data.dtype.names:\n",
    "    print \"(%s, %s)\" % (column.lower(), k2lc_data[column].dtype)"
   ]
  },
  {
   "cell_type": "code",
   "execution_count": 5,
   "metadata": {
    "collapsed": false
   },
   "outputs": [
    {
     "name": "stdout",
     "output_type": "stream",
     "text": [
      "(time, >f8)\n",
      "(timecorr, >f4)\n",
      "(cadenceno, >i4)\n",
      "(raw_cnts, >i4)\n",
      "(flux, >f4)\n",
      "(flux_err, >f4)\n",
      "(flux_bkg, >f4)\n",
      "(flux_bkg_err, >f4)\n",
      "(cosmic_rays, >f4)\n",
      "(quality, >i4)\n",
      "(pos_corr1, >f4)\n",
      "(pos_corr2, >f4)\n"
     ]
    }
   ],
   "source": [
    "# Target pixel file\n",
    "# Print out the column names and types\n",
    "for column in k2tar_data.dtype.names:\n",
    "    print \"(%s, %s)\" % (column.lower(), k2tar_data[column].dtype)"
   ]
  },
  {
   "cell_type": "markdown",
   "metadata": {},
   "source": [
    "### After writing .yaml files, display them to ensure that they are in the proper format."
   ]
  },
  {
   "cell_type": "code",
   "execution_count": 6,
   "metadata": {
    "collapsed": false
   },
   "outputs": [
    {
     "name": "stdout",
     "output_type": "stream",
     "text": [
      "filters: {complevel: 5, complib: blosc}\r\n",
      "schema:\r\n",
      "  common:\r\n",
      "    primary_key: obj_id\r\n",
      "    spatial_keys: [obj_id, cadenceno]\r\n",
      "    columns:\r\n",
      "    - [obj_id, u8]\r\n",
      "    - [time, f8]\r\n",
      "    - [timecorr, f4]\r\n",
      "    - [cadenceno, i4]\r\n",
      "  photometry:\r\n",
      "    columns:\r\n",
      "    - [sap_flux, f4]\r\n",
      "    - [sap_flux_err, f4]\r\n",
      "    - [sap_bkg, f4]\r\n",
      "    - [sap_bkg_err, f4]\r\n",
      "    - [pdcsap_flux, f4]\r\n",
      "    - [pdcsap_flux_err, f4]\r\n",
      "    - [sap_quality, i4]\r\n",
      "    - [psf_centr1, f8]\r\n",
      "    - [psf_centr1_err, f4]\r\n",
      "    - [psf_centr2, f8]\r\n",
      "    - [psf_centr2_err, f4]\r\n",
      "  telemetry:\r\n",
      "    columns:\r\n",
      "    - [mom_centr1, f8]\r\n",
      "    - [mom_centr1_err, f4]\r\n",
      "    - [mom_centr2, f8]\r\n",
      "    - [mom_centr2_err, f4]\r\n",
      "    - [pos_corr1, f4]\r\n",
      "    - [pos_corr2, f4]"
     ]
    }
   ],
   "source": [
    "! cat k2_lc.yaml"
   ]
  },
  {
   "cell_type": "code",
   "execution_count": 7,
   "metadata": {
    "collapsed": false
   },
   "outputs": [
    {
     "name": "stdout",
     "output_type": "stream",
     "text": [
      "filters: {complevel: 5, complib: blosc}\r\n",
      "schema:\r\n",
      "  common:\r\n",
      "    primary_key: obj_id\r\n",
      "    spatial_keys: [obj_id, cadenceno]\r\n",
      "    columns:\r\n",
      "    - [obj_id, u8]\r\n",
      "    - [time, f8]\r\n",
      "    - [timecorr, f4]\r\n",
      "    - [cadenceno, i4]\r\n",
      "    - [quality, i4]\r\n",
      "    - [pos_corr1, f4]\r\n",
      "    - [pos_corr2, f4]\r\n",
      "  photometry:\r\n",
      "    columns:\r\n",
      "    - [raw_cnts, '(50,50)i4']\r\n",
      "    - [flux, '(50,50)f4']\r\n",
      "    - [flux_err, '(50,50)f4']\r\n",
      "    - [flux_bkg, '(50,50)f4']\r\n",
      "    - [flux_bkg_err, '(50,50)f4']\r\n",
      "    - [cosmic_rays, '(50,50)f4']"
     ]
    }
   ],
   "source": [
    "! cat k2_tar.yaml"
   ]
  },
  {
   "cell_type": "markdown",
   "metadata": {},
   "source": [
    "### Create the two tables, dropping them if they already exist."
   ]
  },
  {
   "cell_type": "code",
   "execution_count": 8,
   "metadata": {
    "collapsed": false
   },
   "outputs": [
    {
     "name": "stdout",
     "output_type": "stream",
     "text": [
      "Table 'k2_lightcurve' dropped.\n",
      "\n",
      "-------- committing 20160313015157.329791 [k2_lightcurve] ---------\n",
      "[k2_lightcurve] Updating tablet catalog: [256 el.]::::::::::::::::::::>  0.27 sec\n",
      "[k2_lightcurve] Updating neighbors: Already up to date.\n",
      "[k2_lightcurve] Updating tablet catalog: [256 el.]::::::::::::::::::::>  0.25 sec\n",
      "[k2_lightcurve] Updating stats: [0 el.]>  0.00 sec\n",
      "[k2_lightcurve] Marking tablets read-only...\n",
      "----------- success 20160313015157.329791 [k2_lightcurve] ---------\n",
      "\n",
      "Table 'k2_lightcurve' created.\n"
     ]
    }
   ],
   "source": [
    "# Create the table\n",
    "! lsd-admin create table --drop-existing --schema=k2_lc.yaml k2_lightcurve"
   ]
  },
  {
   "cell_type": "code",
   "execution_count": 9,
   "metadata": {
    "collapsed": false
   },
   "outputs": [
    {
     "name": "stdout",
     "output_type": "stream",
     "text": [
      "Table 'k2_targ' dropped.\n",
      "\n",
      "-------- committing 20160313015202.902391 [k2_targ] ---------\n",
      "[k2_targ] Updating tablet catalog: [256 el.]::::::::::::::::::::>  0.23 sec\n",
      "[k2_targ] Updating neighbors: Already up to date.\n",
      "[k2_targ] Updating tablet catalog: [256 el.]::::::::::::::::::::>  0.24 sec\n",
      "[k2_targ] Updating stats: [0 el.]>  0.00 sec\n",
      "[k2_targ] Marking tablets read-only...\n",
      "----------- success 20160313015202.902391 [k2_targ] ---------\n",
      "\n",
      "Table 'k2_targ' created.\n"
     ]
    }
   ],
   "source": [
    "# Create the table\n",
    "! lsd-admin create table --drop-existing --schema=k2_tar.yaml k2_targ"
   ]
  },
  {
   "cell_type": "markdown",
   "metadata": {},
   "source": [
    "### Import the data!"
   ]
  },
  {
   "cell_type": "code",
   "execution_count": 10,
   "metadata": {
    "collapsed": false
   },
   "outputs": [
    {
     "name": "stdout",
     "output_type": "stream",
     "text": [
      "Importing from 1 pieces:\n",
      "  ===> Imported /astro/users/dflemin3/Desktop/ktwo211402082-c05_llc.fits               [1/1, 100.00%] +   3663/3663         3663 (0/0 min.)\n",
      "done\n",
      "\n",
      "-------- committing 20160313015206.377434 [k2_lightcurve] ---------\n",
      "[k2_lightcurve] Updating tablet catalog: [256 el.]::::::::::::::::::::>  0.46 sec\n",
      "[k2_lightcurve] Updating neighbors: [49 el.]::::::::::::::::::::[203 el.]++++++++++++++++++++>  2.65 sec\n",
      "                Total 33544 cached objects in 203 cells\n",
      "[k2_lightcurve] Updating tablet catalog: [256 el.]::::::::::::::::::::>  0.37 sec\n",
      "[k2_lightcurve] Updating stats: [203 el.]::::::::::::::::::::>  0.06 sec [203 el.]::::::::::::::::::::>  0.26 sec\n",
      "[k2_lightcurve] Marking tablets read-only...\n",
      "----------- success 20160313015206.377434 [k2_lightcurve] ---------\n",
      "\n"
     ]
    }
   ],
   "source": [
    "! lsd-import fits k2_lightcurve /astro/users/dflemin3/Desktop/ktwo211402082-c05_llc.fits"
   ]
  },
  {
   "cell_type": "code",
   "execution_count": 11,
   "metadata": {
    "collapsed": false
   },
   "outputs": [
    {
     "name": "stdout",
     "output_type": "stream",
     "text": [
      "Importing from 1 pieces:\n",
      "  ===> Imported /astro/users/dflemin3/Desktop/ktwo200000811-c00_lpd-targ.fits          [1/1, 100.00%] +   3753/3753         3753 (0/0 min.)\n",
      "done\n",
      "\n",
      "-------- committing 20160313015216.842732 [k2_targ] ---------\n",
      "[k2_targ] Updating tablet catalog: [256 el.]::::::::::::::::::::>  0.28 sec\n",
      "[k2_targ] Updating neighbors: [49 el.]::::::::::::::::::::[203 el.]++++++++++++++++++++>  19.69 sec\n",
      "          Total 34469 cached objects in 203 cells\n",
      "[k2_targ] Updating tablet catalog: [256 el.]::::::::::::::::::::>  0.39 sec\n",
      "[k2_targ] Updating stats: [203 el.]::::::::::::::::::::>  0.05 sec [203 el.]::::::::::::::::::::>  0.29 sec\n",
      "[k2_targ] Marking tablets read-only...\n",
      "----------- success 20160313015216.842732 [k2_targ] ---------\n",
      "\n"
     ]
    }
   ],
   "source": [
    "! lsd-import fits k2_targ /astro/users/dflemin3/Desktop/ktwo200000811-c00_lpd-targ.fits"
   ]
  },
  {
   "cell_type": "code",
   "execution_count": null,
   "metadata": {
    "collapsed": true
   },
   "outputs": [],
   "source": []
  }
 ],
 "metadata": {
  "kernelspec": {
   "display_name": "Python 2",
   "language": "python",
   "name": "python2"
  },
  "language_info": {
   "codemirror_mode": {
    "name": "ipython",
    "version": 2
   },
   "file_extension": ".py",
   "mimetype": "text/x-python",
   "name": "python",
   "nbconvert_exporter": "python",
   "pygments_lexer": "ipython2",
   "version": "2.7.11"
  }
 },
 "nbformat": 4,
 "nbformat_minor": 0
}
